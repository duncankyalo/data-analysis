{
 "cells": [
  {
   "cell_type": "markdown",
   "metadata": {},
   "source": [
    "1.LOAD REQUIERD LIBRARIES"
   ]
  },
  {
   "cell_type": "code",
   "execution_count": 2,
   "metadata": {},
   "outputs": [
    {
     "data": {
      "text/html": [
       "\n",
       "            <style>\n",
       "                .geemap-dark {\n",
       "                    --jp-widgets-color: white;\n",
       "                    --jp-widgets-label-color: white;\n",
       "                    --jp-ui-font-color1: white;\n",
       "                    --jp-layout-color2: #454545;\n",
       "                    background-color: #383838;\n",
       "                }\n",
       "\n",
       "                .geemap-dark .jupyter-button {\n",
       "                    --jp-layout-color3: #383838;\n",
       "                }\n",
       "\n",
       "                .geemap-colab {\n",
       "                    background-color: var(--colab-primary-surface-color, white);\n",
       "                }\n",
       "\n",
       "                .geemap-colab .jupyter-button {\n",
       "                    --jp-layout-color3: var(--colab-primary-surface-color, white);\n",
       "                }\n",
       "            </style>\n",
       "            "
      ],
      "text/plain": [
       "<IPython.core.display.HTML object>"
      ]
     },
     "metadata": {},
     "output_type": "display_data"
    }
   ],
   "source": [
    "import xarray as xr\n",
    "import pandas as pd\n",
    "import matplotlib.pyplot as plt\n"
   ]
  },
  {
   "cell_type": "markdown",
   "metadata": {},
   "source": [
    "2.LOAD DOWNLAODED DATA(GLOBAL DATA) FROM(https://data.chc.ucsb.edu/products/CHIRPS-2.0/global_daily/netcdf/p05/)--year 2024(MAM)"
   ]
  },
  {
   "cell_type": "code",
   "execution_count": null,
   "metadata": {},
   "outputs": [],
   "source": [
    "# Load the CHIRPS data\n",
    "ds = xr.open_dataset('E:/jupyter/DATA/chirps-v2.0.2024.days_p05.nc')"
   ]
  },
  {
   "cell_type": "markdown",
   "metadata": {},
   "source": [
    "3.FILTER AND CUSTOMIZE YOUR DATA I.E TIME FRAME(feb-may) AND LOCATION(kenya)"
   ]
  },
  {
   "cell_type": "code",
   "execution_count": null,
   "metadata": {},
   "outputs": [],
   "source": [
    "\n",
    "\n",
    "# Filter for the time period between February 1st and May 30th\n",
    "ds = ds.sel(time=slice('2024-02-01', '2024-05-30'))\n",
    "\n",
    "# Define the approximate latitude and longitude boundaries of Kenya\n",
    "min_latitude = -4.0\n",
    "max_latitude = 4.0\n",
    "min_longitude = 34.0\n",
    "max_longitude = 42.0\n",
    "\n",
    "# Select data for Kenya using 'where'\n",
    "kenya_data = ds.where((ds.latitude >= min_latitude) & (ds.latitude <= max_latitude) & \n",
    "                       (ds.longitude >= min_longitude) & (ds.longitude <= max_longitude), drop=True)\n",
    "# Convert to a pandas DataFrame\n",
    "df = kenya_data.to_dataframe()\n",
    "\n",
    "# Reset index to create separate columns for lon, lat, and time\n",
    "df = df.reset_index()\n",
    "\n",
    "# Rename columns to lon, lat, and rain\n",
    "df = df.rename(columns={'longitude': 'lon', 'latitude': 'lat', 'precip': 'rain'})\n",
    "\n",
    "# Save to a CSV file in your E drive\n",
    "df.to_csv('E:/kenya_chirps_data.csv', index=False)"
   ]
  }
 ],
 "metadata": {
  "kernelspec": {
   "display_name": "Python 3",
   "language": "python",
   "name": "python3"
  },
  "language_info": {
   "codemirror_mode": {
    "name": "ipython",
    "version": 3
   },
   "file_extension": ".py",
   "mimetype": "text/x-python",
   "name": "python",
   "nbconvert_exporter": "python",
   "pygments_lexer": "ipython3",
   "version": "3.12.3"
  }
 },
 "nbformat": 4,
 "nbformat_minor": 2
}
