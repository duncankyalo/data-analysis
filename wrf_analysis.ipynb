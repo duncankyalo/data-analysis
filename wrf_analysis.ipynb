{
 "cells": [
  {
   "cell_type": "code",
   "execution_count": 9,
   "metadata": {},
   "outputs": [],
   "source": [
    "import xarray as xr\n",
    "import pandas as pd\n",
    "import matplotlib.pyplot as plt\n"
   ]
  },
  {
   "cell_type": "code",
   "execution_count": 10,
   "metadata": {},
   "outputs": [
    {
     "ename": "KeyboardInterrupt",
     "evalue": "",
     "output_type": "error",
     "traceback": [
      "\u001b[1;31m---------------------------------------------------------------------------\u001b[0m",
      "\u001b[1;31mKeyboardInterrupt\u001b[0m                         Traceback (most recent call last)",
      "Cell \u001b[1;32mIn[10], line 13\u001b[0m\n\u001b[0;32m     10\u001b[0m datasets \u001b[38;5;241m=\u001b[39m [xr\u001b[38;5;241m.\u001b[39mopen_dataset(file_path) \u001b[38;5;28;01mfor\u001b[39;00m file_path \u001b[38;5;129;01min\u001b[39;00m file_paths]\n\u001b[0;32m     12\u001b[0m \u001b[38;5;66;03m# Concatenate the datasets along the 'time' dimension\u001b[39;00m\n\u001b[1;32m---> 13\u001b[0m merged_ds \u001b[38;5;241m=\u001b[39m \u001b[43mxr\u001b[49m\u001b[38;5;241;43m.\u001b[39;49m\u001b[43mconcat\u001b[49m\u001b[43m(\u001b[49m\u001b[43mdatasets\u001b[49m\u001b[43m,\u001b[49m\u001b[43m \u001b[49m\u001b[43mdim\u001b[49m\u001b[38;5;241;43m=\u001b[39;49m\u001b[38;5;124;43m'\u001b[39;49m\u001b[38;5;124;43mtime\u001b[39;49m\u001b[38;5;124;43m'\u001b[39;49m\u001b[43m)\u001b[49m\n\u001b[0;32m     16\u001b[0m \u001b[38;5;66;03m# Sort the 'time' dimension\u001b[39;00m\n\u001b[0;32m     17\u001b[0m merged_ds \u001b[38;5;241m=\u001b[39m merged_ds\u001b[38;5;241m.\u001b[39msortby(\u001b[38;5;124m'\u001b[39m\u001b[38;5;124mtime\u001b[39m\u001b[38;5;124m'\u001b[39m)\n",
      "File \u001b[1;32mc:\\Users\\User\\AppData\\Local\\Programs\\Python\\Python312\\Lib\\site-packages\\xarray\\core\\concat.py:276\u001b[0m, in \u001b[0;36mconcat\u001b[1;34m(objs, dim, data_vars, coords, compat, positions, fill_value, join, combine_attrs, create_index_for_new_dim)\u001b[0m\n\u001b[0;32m    263\u001b[0m     \u001b[38;5;28;01mreturn\u001b[39;00m _dataarray_concat(\n\u001b[0;32m    264\u001b[0m         objs,\n\u001b[0;32m    265\u001b[0m         dim\u001b[38;5;241m=\u001b[39mdim,\n\u001b[1;32m   (...)\u001b[0m\n\u001b[0;32m    273\u001b[0m         create_index_for_new_dim\u001b[38;5;241m=\u001b[39mcreate_index_for_new_dim,\n\u001b[0;32m    274\u001b[0m     )\n\u001b[0;32m    275\u001b[0m \u001b[38;5;28;01melif\u001b[39;00m \u001b[38;5;28misinstance\u001b[39m(first_obj, Dataset):\n\u001b[1;32m--> 276\u001b[0m     \u001b[38;5;28;01mreturn\u001b[39;00m \u001b[43m_dataset_concat\u001b[49m\u001b[43m(\u001b[49m\n\u001b[0;32m    277\u001b[0m \u001b[43m        \u001b[49m\u001b[43mobjs\u001b[49m\u001b[43m,\u001b[49m\n\u001b[0;32m    278\u001b[0m \u001b[43m        \u001b[49m\u001b[43mdim\u001b[49m\u001b[38;5;241;43m=\u001b[39;49m\u001b[43mdim\u001b[49m\u001b[43m,\u001b[49m\n\u001b[0;32m    279\u001b[0m \u001b[43m        \u001b[49m\u001b[43mdata_vars\u001b[49m\u001b[38;5;241;43m=\u001b[39;49m\u001b[43mdata_vars\u001b[49m\u001b[43m,\u001b[49m\n\u001b[0;32m    280\u001b[0m \u001b[43m        \u001b[49m\u001b[43mcoords\u001b[49m\u001b[38;5;241;43m=\u001b[39;49m\u001b[43mcoords\u001b[49m\u001b[43m,\u001b[49m\n\u001b[0;32m    281\u001b[0m \u001b[43m        \u001b[49m\u001b[43mcompat\u001b[49m\u001b[38;5;241;43m=\u001b[39;49m\u001b[43mcompat\u001b[49m\u001b[43m,\u001b[49m\n\u001b[0;32m    282\u001b[0m \u001b[43m        \u001b[49m\u001b[43mpositions\u001b[49m\u001b[38;5;241;43m=\u001b[39;49m\u001b[43mpositions\u001b[49m\u001b[43m,\u001b[49m\n\u001b[0;32m    283\u001b[0m \u001b[43m        \u001b[49m\u001b[43mfill_value\u001b[49m\u001b[38;5;241;43m=\u001b[39;49m\u001b[43mfill_value\u001b[49m\u001b[43m,\u001b[49m\n\u001b[0;32m    284\u001b[0m \u001b[43m        \u001b[49m\u001b[43mjoin\u001b[49m\u001b[38;5;241;43m=\u001b[39;49m\u001b[43mjoin\u001b[49m\u001b[43m,\u001b[49m\n\u001b[0;32m    285\u001b[0m \u001b[43m        \u001b[49m\u001b[43mcombine_attrs\u001b[49m\u001b[38;5;241;43m=\u001b[39;49m\u001b[43mcombine_attrs\u001b[49m\u001b[43m,\u001b[49m\n\u001b[0;32m    286\u001b[0m \u001b[43m        \u001b[49m\u001b[43mcreate_index_for_new_dim\u001b[49m\u001b[38;5;241;43m=\u001b[39;49m\u001b[43mcreate_index_for_new_dim\u001b[49m\u001b[43m,\u001b[49m\n\u001b[0;32m    287\u001b[0m \u001b[43m    \u001b[49m\u001b[43m)\u001b[49m\n\u001b[0;32m    288\u001b[0m \u001b[38;5;28;01melse\u001b[39;00m:\n\u001b[0;32m    289\u001b[0m     \u001b[38;5;28;01mraise\u001b[39;00m \u001b[38;5;167;01mTypeError\u001b[39;00m(\n\u001b[0;32m    290\u001b[0m         \u001b[38;5;124m\"\u001b[39m\u001b[38;5;124mcan only concatenate xarray Dataset and DataArray \u001b[39m\u001b[38;5;124m\"\u001b[39m\n\u001b[0;32m    291\u001b[0m         \u001b[38;5;124mf\u001b[39m\u001b[38;5;124m\"\u001b[39m\u001b[38;5;124mobjects, got \u001b[39m\u001b[38;5;132;01m{\u001b[39;00m\u001b[38;5;28mtype\u001b[39m(first_obj)\u001b[38;5;132;01m}\u001b[39;00m\u001b[38;5;124m\"\u001b[39m\n\u001b[0;32m    292\u001b[0m     )\n",
      "File \u001b[1;32mc:\\Users\\User\\AppData\\Local\\Programs\\Python\\Python312\\Lib\\site-packages\\xarray\\core\\concat.py:662\u001b[0m, in \u001b[0;36m_dataset_concat\u001b[1;34m(datasets, dim, data_vars, coords, compat, positions, fill_value, join, combine_attrs, create_index_for_new_dim)\u001b[0m\n\u001b[0;32m    660\u001b[0m         result_vars[k] \u001b[38;5;241m=\u001b[39m v\n\u001b[0;32m    661\u001b[0m \u001b[38;5;28;01melse\u001b[39;00m:\n\u001b[1;32m--> 662\u001b[0m     combined_var \u001b[38;5;241m=\u001b[39m \u001b[43mconcat_vars\u001b[49m\u001b[43m(\u001b[49m\n\u001b[0;32m    663\u001b[0m \u001b[43m        \u001b[49m\u001b[38;5;28;43mvars\u001b[39;49m\u001b[43m,\u001b[49m\u001b[43m \u001b[49m\u001b[43mdim\u001b[49m\u001b[43m,\u001b[49m\u001b[43m \u001b[49m\u001b[43mpositions\u001b[49m\u001b[43m,\u001b[49m\u001b[43m \u001b[49m\u001b[43mcombine_attrs\u001b[49m\u001b[38;5;241;43m=\u001b[39;49m\u001b[43mcombine_attrs\u001b[49m\n\u001b[0;32m    664\u001b[0m \u001b[43m    \u001b[49m\u001b[43m)\u001b[49m\n\u001b[0;32m    665\u001b[0m     \u001b[38;5;66;03m# reindex if variable is not present in all datasets\u001b[39;00m\n\u001b[0;32m    666\u001b[0m     \u001b[38;5;28;01mif\u001b[39;00m \u001b[38;5;28mlen\u001b[39m(variable_index) \u001b[38;5;241m<\u001b[39m concat_index_size:\n",
      "File \u001b[1;32mc:\\Users\\User\\AppData\\Local\\Programs\\Python\\Python312\\Lib\\site-packages\\xarray\\core\\variable.py:2986\u001b[0m, in \u001b[0;36mconcat\u001b[1;34m(variables, dim, positions, shortcut, combine_attrs)\u001b[0m\n\u001b[0;32m   2984\u001b[0m     \u001b[38;5;28;01mreturn\u001b[39;00m IndexVariable\u001b[38;5;241m.\u001b[39mconcat(variables, dim, positions, shortcut, combine_attrs)\n\u001b[0;32m   2985\u001b[0m \u001b[38;5;28;01melse\u001b[39;00m:\n\u001b[1;32m-> 2986\u001b[0m     \u001b[38;5;28;01mreturn\u001b[39;00m \u001b[43mVariable\u001b[49m\u001b[38;5;241;43m.\u001b[39;49m\u001b[43mconcat\u001b[49m\u001b[43m(\u001b[49m\u001b[43mvariables\u001b[49m\u001b[43m,\u001b[49m\u001b[43m \u001b[49m\u001b[43mdim\u001b[49m\u001b[43m,\u001b[49m\u001b[43m \u001b[49m\u001b[43mpositions\u001b[49m\u001b[43m,\u001b[49m\u001b[43m \u001b[49m\u001b[43mshortcut\u001b[49m\u001b[43m,\u001b[49m\u001b[43m \u001b[49m\u001b[43mcombine_attrs\u001b[49m\u001b[43m)\u001b[49m\n",
      "File \u001b[1;32mc:\\Users\\User\\AppData\\Local\\Programs\\Python\\Python312\\Lib\\site-packages\\xarray\\core\\variable.py:1737\u001b[0m, in \u001b[0;36mVariable.concat\u001b[1;34m(cls, variables, dim, positions, shortcut, combine_attrs)\u001b[0m\n\u001b[0;32m   1735\u001b[0m axis \u001b[38;5;241m=\u001b[39m first_var\u001b[38;5;241m.\u001b[39mget_axis_num(dim)\n\u001b[0;32m   1736\u001b[0m dims \u001b[38;5;241m=\u001b[39m first_var_dims\n\u001b[1;32m-> 1737\u001b[0m data \u001b[38;5;241m=\u001b[39m \u001b[43mduck_array_ops\u001b[49m\u001b[38;5;241;43m.\u001b[39;49m\u001b[43mconcatenate\u001b[49m\u001b[43m(\u001b[49m\u001b[43marrays\u001b[49m\u001b[43m,\u001b[49m\u001b[43m \u001b[49m\u001b[43maxis\u001b[49m\u001b[38;5;241;43m=\u001b[39;49m\u001b[43maxis\u001b[49m\u001b[43m)\u001b[49m\n\u001b[0;32m   1738\u001b[0m \u001b[38;5;28;01mif\u001b[39;00m positions \u001b[38;5;129;01mis\u001b[39;00m \u001b[38;5;129;01mnot\u001b[39;00m \u001b[38;5;28;01mNone\u001b[39;00m:\n\u001b[0;32m   1739\u001b[0m     \u001b[38;5;66;03m# TODO: deprecate this option -- we don't need it for groupby\u001b[39;00m\n\u001b[0;32m   1740\u001b[0m     \u001b[38;5;66;03m# any more.\u001b[39;00m\n\u001b[0;32m   1741\u001b[0m     indices \u001b[38;5;241m=\u001b[39m nputils\u001b[38;5;241m.\u001b[39minverse_permutation(np\u001b[38;5;241m.\u001b[39mconcatenate(positions))\n",
      "File \u001b[1;32mc:\\Users\\User\\AppData\\Local\\Programs\\Python\\Python312\\Lib\\site-packages\\xarray\\core\\duck_array_ops.py:402\u001b[0m, in \u001b[0;36mconcatenate\u001b[1;34m(arrays, axis)\u001b[0m\n\u001b[0;32m    400\u001b[0m     xp \u001b[38;5;241m=\u001b[39m get_array_namespace(arrays[\u001b[38;5;241m0\u001b[39m])\n\u001b[0;32m    401\u001b[0m     \u001b[38;5;28;01mreturn\u001b[39;00m xp\u001b[38;5;241m.\u001b[39mconcat(as_shared_dtype(arrays, xp\u001b[38;5;241m=\u001b[39mxp), axis\u001b[38;5;241m=\u001b[39maxis)\n\u001b[1;32m--> 402\u001b[0m \u001b[38;5;28;01mreturn\u001b[39;00m \u001b[43m_concatenate\u001b[49m\u001b[43m(\u001b[49m\u001b[43mas_shared_dtype\u001b[49m\u001b[43m(\u001b[49m\u001b[43marrays\u001b[49m\u001b[43m)\u001b[49m\u001b[43m,\u001b[49m\u001b[43m \u001b[49m\u001b[43maxis\u001b[49m\u001b[38;5;241;43m=\u001b[39;49m\u001b[43maxis\u001b[49m\u001b[43m)\u001b[49m\n",
      "\u001b[1;31mKeyboardInterrupt\u001b[0m: "
     ]
    }
   ],
   "source": [
    "import glob\n",
    "\n",
    "# Set the directory containing your NetCDF files\n",
    "data_dir = \"E:/jupyter/DATA/wrf MAM/daily_output/\"\n",
    "\n",
    "# Get a list of all NetCDF files in the directory\n",
    "file_paths = glob.glob(data_dir + \"*.nc\")\n",
    "\n",
    "# Load all datasets into a list\n",
    "datasets = [xr.open_dataset(file_path) for file_path in file_paths]\n",
    "\n",
    "# Concatenate the datasets along the 'time' dimension\n",
    "merged_ds = xr.concat(datasets, dim='time')\n",
    "\n",
    "\n",
    "# Sort the 'time' dimension\n",
    "merged_ds = merged_ds.sortby('time')\n",
    "\n",
    "# Select data from the first day of the first week to the last day of the fourth week\n",
    "start_date = merged_ds['time'][0].values\n",
    "end_date = merged_ds['time'][-1].values  \n",
    "\n",
    "merged_ds = merged_ds.sel(time=slice(start_date, end_date))\n",
    "\n",
    "# Set the output file path\n",
    "output_path = \"E:/jupyter/DATA/wrf MAM/merged_wrf_data.nc\"\n",
    "\n",
    "# Save the merged dataset to NetCDF format\n",
    "merged_ds.to_netcdf(output_path)\n",
    "\n",
    "print(f\"Merged dataset saved to {output_path}\")"
   ]
  },
  {
   "cell_type": "code",
   "execution_count": 4,
   "metadata": {},
   "outputs": [
    {
     "name": "stdout",
     "output_type": "stream",
     "text": [
      "<xarray.Dataset> Size: 1GB\n",
      "Dimensions:    (time: 142, lat: 1549, lon: 1379)\n",
      "Coordinates:\n",
      "  * lat        (lat) float32 6kB -13.5 -13.46 -13.42 -13.4 ... 24.42 24.46 24.5\n",
      "  * lon        (lon) float32 6kB 20.5 20.54 20.58 20.6 ... 52.9 52.92 52.96 53.0\n",
      "  * time       (time) datetime64[ns] 1kB 2024-02-28T06:00:00 ... 2024-06-11T0...\n",
      "Data variables:\n",
      "    dailyrain  (time, lat, lon) float32 1GB ...\n",
      "Attributes:\n",
      "    GCM_source:     NOAA NCEP CFSv2 \n",
      "    creation_date:  Tue Feb 27 09:06:03 EAT 2024\n",
      "    source_file:    /home/forecast/forecasts/wrf/weekly/  \n",
      "    title:          WRF daily predicted rainfall \n"
     ]
    }
   ],
   "source": [
    "# Load the CHIRPS data\n",
    "ds = xr.open_dataset('E:/jupyter/DATA/wrf MAM/merged_wrf_data.nc')\n",
    "\n",
    "print(ds)"
   ]
  },
  {
   "cell_type": "code",
   "execution_count": 5,
   "metadata": {},
   "outputs": [
    {
     "name": "stdout",
     "output_type": "stream",
     "text": [
      "Latitude Resolution: 0.03815269470214844 degrees\n",
      "Longitude Resolution: 0.03973197937011719 degrees\n"
     ]
    }
   ],
   "source": [
    "# Get latitude and longitude values\n",
    "latitudes = ds.lat.values\n",
    "longitudes = ds.lon.values\n",
    "\n",
    "# Calculate the resolution\n",
    "lat_res = abs(latitudes[1] - latitudes[0])\n",
    "lon_res = abs(longitudes[1] - longitudes[0])\n",
    "\n",
    "# Print the resolution\n",
    "print(f\"Latitude Resolution: {lat_res} degrees\")\n",
    "print(f\"Longitude Resolution: {lon_res} degrees\")"
   ]
  },
  {
   "cell_type": "code",
   "execution_count": 8,
   "metadata": {},
   "outputs": [],
   "source": [
    "# Filter for the time period between February 1st and May 30th\n",
    "ds = ds.sel(time=slice('2024-04-01', '2024-04-30'))\n",
    "\n",
    "# Define the approximate latitude and longitude boundaries of Kenya\n",
    "min_latitude = -4.0\n",
    "max_latitude = 4.0\n",
    "min_longitude = 34.0\n",
    "max_longitude = 42.0\n",
    "\n",
    "# Select data for Kenya using 'where' - corrected to use 'lat' and 'lon'\n",
    "kenya_data = ds.where((ds.lat >= min_latitude) & (ds.lat <= max_latitude) & \n",
    "                       (ds.lon >= min_longitude) & (ds.lon <= max_longitude), drop=True)\n",
    "\n",
    "# Convert to a pandas DataFrame\n",
    "df = kenya_data.to_dataframe()\n",
    "\n",
    "# Reset index to create separate columns for lon, lat, and time\n",
    "df = df.reset_index()\n",
    "\n",
    "# Rename columns to lon, lat, and rain\n",
    "df = df.rename(columns={'lon': 'lon', 'lat': 'lat', 'dailyrain': 'rain'})\n",
    "\n",
    "# Save to a CSV file in your E drive\n",
    "df.to_csv('E:/wrf_data1.csv', index=False)"
   ]
  }
 ],
 "metadata": {
  "kernelspec": {
   "display_name": "Python 3",
   "language": "python",
   "name": "python3"
  },
  "language_info": {
   "codemirror_mode": {
    "name": "ipython",
    "version": 3
   },
   "file_extension": ".py",
   "mimetype": "text/x-python",
   "name": "python",
   "nbconvert_exporter": "python",
   "pygments_lexer": "ipython3",
   "version": "3.12.3"
  }
 },
 "nbformat": 4,
 "nbformat_minor": 2
}
