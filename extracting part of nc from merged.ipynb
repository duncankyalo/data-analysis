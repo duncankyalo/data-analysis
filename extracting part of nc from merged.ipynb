{
 "cells": [
  {
   "cell_type": "code",
   "execution_count": 2,
   "metadata": {},
   "outputs": [
    {
     "name": "stdout",
     "output_type": "stream",
     "text": [
      "Extracted data saved to E:/kenya_wrf_data_subset.nc\n"
     ]
    }
   ],
   "source": [
    "import xarray as xr\n",
    "\n",
    "# Step 1: Load the WRF NetCDF file\n",
    "wrf_data = xr.open_dataset('E:/jupyter/DATA/chirps and wrf/merged_wrf_data.nc')\n",
    "\n",
    "# Step 2: Select the spatial region corresponding to Kenya\n",
    "# Kenya: latitudes between -5 and 5 degrees, longitudes between 34 and 42 degrees\n",
    "kenya_wrf_data = wrf_data.sel(lat=slice(-5, 5), lon=slice(34, 42))\n",
    "\n",
    "# Step 3: Select the time interval\n",
    "# Assuming we want data from March 2, 2024 to May 31, 2024\n",
    "kenya_wrf_data = kenya_wrf_data.sel(time=slice('2024-03-02', '2024-05-31'))\n",
    "\n",
    "# # Now kenya_wrf_data contains only the data restricted to Kenya and the specified time interval\n",
    "# print(kenya_wrf_data)\n",
    "# Step 4: Save the extracted data as a new NetCDF file to drive E\n",
    "output_file_path = 'E:/kenya_wrf_data_subset.nc'\n",
    "kenya_wrf_data.to_netcdf(output_file_path)\n",
    "\n",
    "print(f\"Extracted data saved to {output_file_path}\")"
   ]
  },
  {
   "cell_type": "code",
   "execution_count": 6,
   "metadata": {},
   "outputs": [
    {
     "name": "stdout",
     "output_type": "stream",
     "text": [
      "Extracted data saved to E:/kenya_chirps_data_subset.nc\n"
     ]
    }
   ],
   "source": [
    "# Step 1: Load the CHIRPS NetCDF file\n",
    "chirps_data = xr.open_dataset('E:/jupyter/DATA/chirps and wrf/chirps-v2.0.2024.days_p05.nc')\n",
    "# print(chirps_data)\n",
    "\n",
    "# Step 2: Select the spatial region corresponding to Kenya\n",
    "# Kenya: latitudes between -5 and 5 degrees, longitudes between 34 and 42 degrees\n",
    "kenya_chirps_data = chirps_data.sel(latitude=slice(-5, 5), longitude=slice(34, 42))\n",
    "\n",
    "# Step 3: Select the time interval\n",
    "# Assuming we want data from March 2, 2024 to May 31, 2024\n",
    "kenya_chirps_data = kenya_chirps_data.sel(time=slice('2024-03-02', '2024-05-31'))\n",
    "\n",
    "# Step 4: Save the extracted data as a new NetCDF file to drive E\n",
    "output_file_path = 'E:/kenya_chirps_data_subset.nc'\n",
    "kenya_chirps_data.to_netcdf(output_file_path)\n",
    "\n",
    "print(f\"Extracted data saved to {output_file_path}\")"
   ]
  }
 ],
 "metadata": {
  "kernelspec": {
   "display_name": "Python 3",
   "language": "python",
   "name": "python3"
  },
  "language_info": {
   "codemirror_mode": {
    "name": "ipython",
    "version": 3
   },
   "file_extension": ".py",
   "mimetype": "text/x-python",
   "name": "python",
   "nbconvert_exporter": "python",
   "pygments_lexer": "ipython3",
   "version": "3.12.3"
  }
 },
 "nbformat": 4,
 "nbformat_minor": 2
}
